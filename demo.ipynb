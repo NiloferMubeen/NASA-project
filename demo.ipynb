{
 "cells": [
  {
   "cell_type": "code",
   "execution_count": 1,
   "id": "564601a4",
   "metadata": {},
   "outputs": [
    {
     "name": "stdout",
     "output_type": "stream",
     "text": [
      "Requirement already satisfied: pymysql in c:\\users\\hp\\appdata\\local\\programs\\python\\python310\\lib\\site-packages (1.1.1)\n"
     ]
    }
   ],
   "source": [
    "!pip install pymysql"
   ]
  },
  {
   "cell_type": "code",
   "execution_count": 3,
   "id": "10524240",
   "metadata": {},
   "outputs": [],
   "source": [
    "import pymysql\n",
    "\n",
    "\n",
    "connection = pymysql.connect(\n",
    "    host = \"localhost\",\n",
    "    user = 'root',\n",
    "    password = \"1234\",\n",
    "    database =\"astro\"\n",
    ")\n",
    "\n",
    "\n",
    "cursor = connection.cursor()"
   ]
  },
  {
   "cell_type": "code",
   "execution_count": 6,
   "id": "99972689",
   "metadata": {},
   "outputs": [],
   "source": [
    "asteroid = [{\"id\":2132424},{\"id\":23534637},{\"id\":342536}]"
   ]
  },
  {
   "cell_type": "code",
   "execution_count": 5,
   "id": "560e2ec0",
   "metadata": {},
   "outputs": [
    {
     "data": {
      "text/plain": [
       "0"
      ]
     },
     "execution_count": 5,
     "metadata": {},
     "output_type": "execute_result"
    }
   ],
   "source": [
    "cursor.execute(\"create table asteroids (id INT)\")\n",
    "\n"
   ]
  },
  {
   "cell_type": "code",
   "execution_count": 10,
   "id": "4308b85e",
   "metadata": {},
   "outputs": [],
   "source": [
    "insert_query = \"\"\"insert into asteroids(id)values(%s)\"\"\"\n",
    "for i in asteroid:\n",
    "        values = (i['id'])\n",
    "\n",
    "        cursor.execute(insert_query,values)\n",
    "connection.commit() \n"
   ]
  }
 ],
 "metadata": {
  "kernelspec": {
   "display_name": "Python 3",
   "language": "python",
   "name": "python3"
  },
  "language_info": {
   "codemirror_mode": {
    "name": "ipython",
    "version": 3
   },
   "file_extension": ".py",
   "mimetype": "text/x-python",
   "name": "python",
   "nbconvert_exporter": "python",
   "pygments_lexer": "ipython3",
   "version": "3.10.11"
  }
 },
 "nbformat": 4,
 "nbformat_minor": 5
}
